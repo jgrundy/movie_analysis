{
 "cells": [
  {
   "cell_type": "code",
   "execution_count": 1,
   "metadata": {},
   "outputs": [
    {
     "name": "stderr",
     "output_type": "stream",
     "text": [
      "/opt/homebrew/lib/python3.9/site-packages/tqdm/auto.py:22: TqdmWarning: IProgress not found. Please update jupyter and ipywidgets. See https://ipywidgets.readthedocs.io/en/stable/user_install.html\n",
      "  from .autonotebook import tqdm as notebook_tqdm\n"
     ]
    }
   ],
   "source": [
    "import pandas as pd\n",
    "import numpy as np\n",
    "import spacy as sp\n",
    "from imdb import Cinemagoer\n",
    "import matplotlib.pyplot as plt\n",
    "import datetime\n",
    "from collections import Counter\n",
    "import warnings\n",
    "\n",
    "warnings.filterwarnings(\"ignore\")\n",
    "\n",
    "from cleaning_funcs import *\n",
    "\n",
    "ia = Cinemagoer()\n",
    "\n",
    "%matplotlib inline\n",
    "\n",
    "#IMDb Docs: https://imdbpy.readthedocs.io/en/latest/index.html"
   ]
  },
  {
   "cell_type": "code",
   "execution_count": 15,
   "metadata": {
    "scrolled": true
   },
   "outputs": [
    {
     "name": "stdout",
     "output_type": "stream",
     "text": [
      "Number of Movies: 93\n"
     ]
    },
    {
     "data": {
      "text/html": [
       "<div>\n",
       "<style scoped>\n",
       "    .dataframe tbody tr th:only-of-type {\n",
       "        vertical-align: middle;\n",
       "    }\n",
       "\n",
       "    .dataframe tbody tr th {\n",
       "        vertical-align: top;\n",
       "    }\n",
       "\n",
       "    .dataframe thead th {\n",
       "        text-align: right;\n",
       "    }\n",
       "</style>\n",
       "<table border=\"1\" class=\"dataframe\">\n",
       "  <thead>\n",
       "    <tr style=\"text-align: right;\">\n",
       "      <th></th>\n",
       "      <th>Month</th>\n",
       "      <th>Pick</th>\n",
       "      <th>IMDb ID</th>\n",
       "      <th>Movie</th>\n",
       "      <th>Year</th>\n",
       "      <th>IMDb Score</th>\n",
       "      <th>Sebastian</th>\n",
       "      <th>Jon</th>\n",
       "      <th>Dazraf</th>\n",
       "      <th>Average</th>\n",
       "      <th>Notes</th>\n",
       "    </tr>\n",
       "  </thead>\n",
       "  <tbody>\n",
       "    <tr>\n",
       "      <th>0</th>\n",
       "      <td>3/2019</td>\n",
       "      <td>Farzad</td>\n",
       "      <td>947798</td>\n",
       "      <td>Black Swan</td>\n",
       "      <td>2010</td>\n",
       "      <td>8.0</td>\n",
       "      <td>8.0</td>\n",
       "      <td>9.0</td>\n",
       "      <td>8.0</td>\n",
       "      <td>8.3</td>\n",
       "      <td>Inagural movie!</td>\n",
       "    </tr>\n",
       "    <tr>\n",
       "      <th>1</th>\n",
       "      <td>4/2019</td>\n",
       "      <td>Jon</td>\n",
       "      <td>156887</td>\n",
       "      <td>Perfect Blue</td>\n",
       "      <td>1997</td>\n",
       "      <td>8.0</td>\n",
       "      <td>9.0</td>\n",
       "      <td>9.0</td>\n",
       "      <td>7.0</td>\n",
       "      <td>8.3</td>\n",
       "      <td>Black Swan, but make it anime.</td>\n",
       "    </tr>\n",
       "    <tr>\n",
       "      <th>2</th>\n",
       "      <td>5/2019</td>\n",
       "      <td>Steven</td>\n",
       "      <td>311113</td>\n",
       "      <td>Master and Commander: The Far Side of the World</td>\n",
       "      <td>2003</td>\n",
       "      <td>7.4</td>\n",
       "      <td>9.5</td>\n",
       "      <td>8.0</td>\n",
       "      <td>8.0</td>\n",
       "      <td>8.5</td>\n",
       "      <td>https://www.youtube.com/watch?v=mq1YthGFjRI</td>\n",
       "    </tr>\n",
       "  </tbody>\n",
       "</table>\n",
       "</div>"
      ],
      "text/plain": [
       "    Month    Pick  IMDb ID                                            Movie  \\\n",
       "0  3/2019  Farzad   947798                                       Black Swan   \n",
       "1  4/2019     Jon   156887                                     Perfect Blue   \n",
       "2  5/2019  Steven   311113  Master and Commander: The Far Side of the World   \n",
       "\n",
       "   Year  IMDb Score  Sebastian  Jon  Dazraf  Average  \\\n",
       "0  2010         8.0        8.0  9.0     8.0      8.3   \n",
       "1  1997         8.0        9.0  9.0     7.0      8.3   \n",
       "2  2003         7.4        9.5  8.0     8.0      8.5   \n",
       "\n",
       "                                         Notes  \n",
       "0                              Inagural movie!  \n",
       "1              Black Swan, but make it anime.   \n",
       "2  https://www.youtube.com/watch?v=mq1YthGFjRI  "
      ]
     },
     "execution_count": 15,
     "metadata": {},
     "output_type": "execute_result"
    }
   ],
   "source": [
    "data = load_data('movie_list_current.csv')\n",
    "data = data[['Month', 'Pick', 'IMDb ID', 'Movie', 'Year', 'IMDb Score', 'Sebastian', 'Jon', 'Dazraf', 'Average', 'Notes']]\n",
    "print(\"Number of Movies:\", data.shape[0])\n",
    "data = data[data.Sebastian.notnull()]\n",
    "data.head(3)"
   ]
  },
  {
   "cell_type": "code",
   "execution_count": 16,
   "metadata": {},
   "outputs": [
    {
     "ename": "TypeError",
     "evalue": "'module' object is not callable",
     "output_type": "error",
     "traceback": [
      "\u001b[0;31m---------------------------------------------------------------------------\u001b[0m",
      "\u001b[0;31mTypeError\u001b[0m                                 Traceback (most recent call last)",
      "\u001b[1;32m/Users/jonat/Desktop/code/movie_analysis/movie_analysis_cleaning_jg.ipynb Cell 3\u001b[0m in \u001b[0;36m<cell line: 8>\u001b[0;34m()\u001b[0m\n\u001b[1;32m      <a href='vscode-notebook-cell:/Users/jonat/Desktop/code/movie_analysis/movie_analysis_cleaning_jg.ipynb#ch0000005?line=4'>5</a>\u001b[0m plot_outline \u001b[39m=\u001b[39m []\n\u001b[1;32m      <a href='vscode-notebook-cell:/Users/jonat/Desktop/code/movie_analysis/movie_analysis_cleaning_jg.ipynb#ch0000005?line=5'>6</a>\u001b[0m synopsis_list \u001b[39m=\u001b[39m []\n\u001b[0;32m----> <a href='vscode-notebook-cell:/Users/jonat/Desktop/code/movie_analysis/movie_analysis_cleaning_jg.ipynb#ch0000005?line=7'>8</a>\u001b[0m \u001b[39mfor\u001b[39;00m index, row \u001b[39min\u001b[39;00m tqdm(data\u001b[39m.\u001b[39;49miterrows()):\n\u001b[1;32m      <a href='vscode-notebook-cell:/Users/jonat/Desktop/code/movie_analysis/movie_analysis_cleaning_jg.ipynb#ch0000005?line=8'>9</a>\u001b[0m     movie \u001b[39m=\u001b[39m ia\u001b[39m.\u001b[39mget_movie(row[\u001b[39m'\u001b[39m\u001b[39mIMDb ID\u001b[39m\u001b[39m'\u001b[39m])\n\u001b[1;32m     <a href='vscode-notebook-cell:/Users/jonat/Desktop/code/movie_analysis/movie_analysis_cleaning_jg.ipynb#ch0000005?line=10'>11</a>\u001b[0m     title_list\u001b[39m.\u001b[39mappend(movie\u001b[39m.\u001b[39mget(\u001b[39m'\u001b[39m\u001b[39mtitle\u001b[39m\u001b[39m'\u001b[39m))\n",
      "\u001b[0;31mTypeError\u001b[0m: 'module' object is not callable"
     ]
    }
   ],
   "source": [
    "title_list = []\n",
    "year_list = []\n",
    "rating_list = []\n",
    "plot_outline_list = []\n",
    "plot_outline = []\n",
    "synopsis_list = []\n",
    "\n",
    "for index, row in data.iterrows():\n",
    "    movie = ia.get_movie(row['IMDb ID'])\n",
    "    \n",
    "    title_list.append(movie.get('title'))\n",
    "    year_list.append(movie.get('year'))\n",
    "    rating_list.append(movie.get('rating'))\n",
    "    plot_outline_list.append(text_preprocessing(movie.get('plot outline')))\n",
    "    plot_outline.append(text_preprocessing(movie.get('plot outline')))\n",
    "    synopsis_list.append(text_preprocessing(movie.get('synopsis')))\n",
    "    # movie_data['imdbid'] = movie.get('imdbid')\n",
    "    # movie_data['directors'] = movie.get('directors') #need to parse this before we can use it\n",
    "    # movie_data['genres'] = movie.get('genres')\n",
    "    # movie_data['runtimes'] = movie.get('runtimes')\n",
    "    # movie_data['budget'] = movie.get('budget')\n",
    "    # movie_data['gross'] = movie.get('gross')\n",
    "    # movie_data['synopsis'] = movie.get('synopsis')\n",
    "\n",
    "    # temp.append([title, year, rating], ignore_index=True)\n",
    "\n",
    "data['title'] = title_list\n",
    "data['year'] = year_list\n",
    "data['rating'] = rating_list\n",
    "data['plot_outline'] = plot_outline_list\n",
    "data['plot'] = plot_outline\n",
    "data['synopsis'] = synopsis_list"
   ]
  },
  {
   "cell_type": "code",
   "execution_count": 11,
   "metadata": {},
   "outputs": [
    {
     "name": "stdout",
     "output_type": "stream",
     "text": [
      "Data output to /Users/jonat/Desktop/code/movie_analysis/data/movie_list_current_clean.csv\n"
     ]
    }
   ],
   "source": [
    "#write file out to csv\n",
    "output_data(data, 'movie_list_current_clean.csv')"
   ]
  },
  {
   "cell_type": "code",
   "execution_count": null,
   "metadata": {},
   "outputs": [],
   "source": []
  }
 ],
 "metadata": {
  "kernelspec": {
   "display_name": "Python 3.9.13 64-bit",
   "language": "python",
   "name": "python3"
  },
  "language_info": {
   "codemirror_mode": {
    "name": "ipython",
    "version": 3
   },
   "file_extension": ".py",
   "mimetype": "text/x-python",
   "name": "python",
   "nbconvert_exporter": "python",
   "pygments_lexer": "ipython3",
   "version": "3.9.13"
  },
  "vscode": {
   "interpreter": {
    "hash": "b0fa6594d8f4cbf19f97940f81e996739fb7646882a419484c72d19e05852a7e"
   }
  }
 },
 "nbformat": 4,
 "nbformat_minor": 2
}
