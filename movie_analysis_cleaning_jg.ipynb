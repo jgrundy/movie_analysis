{
 "cells": [
  {
   "cell_type": "code",
   "execution_count": 1,
   "metadata": {},
   "outputs": [
    {
     "name": "stderr",
     "output_type": "stream",
     "text": [
      "/opt/homebrew/lib/python3.9/site-packages/tqdm/auto.py:22: TqdmWarning: IProgress not found. Please update jupyter and ipywidgets. See https://ipywidgets.readthedocs.io/en/stable/user_install.html\n",
      "  from .autonotebook import tqdm as notebook_tqdm\n"
     ]
    }
   ],
   "source": [
    "import pandas as pd\n",
    "import numpy as np\n",
    "import spacy as sp\n",
    "from imdb import Cinemagoer\n",
    "import matplotlib.pyplot as plt\n",
    "import datetime\n",
    "from collections import Counter\n",
    "import warnings\n",
    "\n",
    "warnings.filterwarnings(\"ignore\")\n",
    "\n",
    "from cleaning_funcs import *\n",
    "\n",
    "ia = Cinemagoer()\n",
    "\n",
    "%matplotlib inline\n",
    "\n",
    "#IMDb Docs: https://imdbpy.readthedocs.io/en/latest/index.html"
   ]
  },
  {
   "cell_type": "code",
   "execution_count": 2,
   "metadata": {
    "scrolled": true
   },
   "outputs": [
    {
     "name": "stdout",
     "output_type": "stream",
     "text": [
      "Number of Movies: 93\n"
     ]
    },
    {
     "data": {
      "text/html": [
       "<div>\n",
       "<style scoped>\n",
       "    .dataframe tbody tr th:only-of-type {\n",
       "        vertical-align: middle;\n",
       "    }\n",
       "\n",
       "    .dataframe tbody tr th {\n",
       "        vertical-align: top;\n",
       "    }\n",
       "\n",
       "    .dataframe thead th {\n",
       "        text-align: right;\n",
       "    }\n",
       "</style>\n",
       "<table border=\"1\" class=\"dataframe\">\n",
       "  <thead>\n",
       "    <tr style=\"text-align: right;\">\n",
       "      <th></th>\n",
       "      <th>Month</th>\n",
       "      <th>Pick</th>\n",
       "      <th>IMDb ID</th>\n",
       "      <th>Movie</th>\n",
       "      <th>Year</th>\n",
       "      <th>IMDb Score</th>\n",
       "      <th>Sebastian</th>\n",
       "      <th>Jon</th>\n",
       "      <th>Dazraf</th>\n",
       "      <th>Average</th>\n",
       "      <th>Notes</th>\n",
       "    </tr>\n",
       "  </thead>\n",
       "  <tbody>\n",
       "    <tr>\n",
       "      <th>0</th>\n",
       "      <td>3/2019</td>\n",
       "      <td>Farzad</td>\n",
       "      <td>947798</td>\n",
       "      <td>Black Swan</td>\n",
       "      <td>2010</td>\n",
       "      <td>8.0</td>\n",
       "      <td>8.0</td>\n",
       "      <td>9.0</td>\n",
       "      <td>8.0</td>\n",
       "      <td>8.3</td>\n",
       "      <td>Inagural movie!</td>\n",
       "    </tr>\n",
       "    <tr>\n",
       "      <th>1</th>\n",
       "      <td>4/2019</td>\n",
       "      <td>Jon</td>\n",
       "      <td>156887</td>\n",
       "      <td>Perfect Blue</td>\n",
       "      <td>1997</td>\n",
       "      <td>8.0</td>\n",
       "      <td>9.0</td>\n",
       "      <td>9.0</td>\n",
       "      <td>7.0</td>\n",
       "      <td>8.3</td>\n",
       "      <td>Black Swan, but make it anime.</td>\n",
       "    </tr>\n",
       "    <tr>\n",
       "      <th>2</th>\n",
       "      <td>5/2019</td>\n",
       "      <td>Steven</td>\n",
       "      <td>311113</td>\n",
       "      <td>Master and Commander: The Far Side of the World</td>\n",
       "      <td>2003</td>\n",
       "      <td>7.4</td>\n",
       "      <td>9.5</td>\n",
       "      <td>8.0</td>\n",
       "      <td>8.0</td>\n",
       "      <td>8.5</td>\n",
       "      <td>https://www.youtube.com/watch?v=mq1YthGFjRI</td>\n",
       "    </tr>\n",
       "  </tbody>\n",
       "</table>\n",
       "</div>"
      ],
      "text/plain": [
       "    Month    Pick  IMDb ID                                            Movie  \\\n",
       "0  3/2019  Farzad   947798                                       Black Swan   \n",
       "1  4/2019     Jon   156887                                     Perfect Blue   \n",
       "2  5/2019  Steven   311113  Master and Commander: The Far Side of the World   \n",
       "\n",
       "   Year  IMDb Score  Sebastian  Jon  Dazraf  Average  \\\n",
       "0  2010         8.0        8.0  9.0     8.0      8.3   \n",
       "1  1997         8.0        9.0  9.0     7.0      8.3   \n",
       "2  2003         7.4        9.5  8.0     8.0      8.5   \n",
       "\n",
       "                                         Notes  \n",
       "0                              Inagural movie!  \n",
       "1              Black Swan, but make it anime.   \n",
       "2  https://www.youtube.com/watch?v=mq1YthGFjRI  "
      ]
     },
     "execution_count": 2,
     "metadata": {},
     "output_type": "execute_result"
    }
   ],
   "source": [
    "data = load_data('movie_list_current.csv')\n",
    "data = data[['Month', 'Pick', 'IMDb ID', 'Movie', 'Year', 'IMDb Score', 'Sebastian', 'Jon', 'Dazraf', 'Average', 'Notes']]\n",
    "print(\"Number of Movies:\", data.shape[0])\n",
    "data = data[data.Sebastian.notnull()]\n",
    "data.head(3)"
   ]
  },
  {
   "cell_type": "code",
   "execution_count": 3,
   "metadata": {},
   "outputs": [
    {
     "ename": "AttributeError",
     "evalue": "'list' object has no attribute 'get'",
     "output_type": "error",
     "traceback": [
      "\u001b[0;31m---------------------------------------------------------------------------\u001b[0m",
      "\u001b[0;31mAttributeError\u001b[0m                            Traceback (most recent call last)",
      "\u001b[1;32m/Users/jonat/Desktop/code/movie_analysis/movie_analysis_cleaning_jg.ipynb Cell 3\u001b[0m in \u001b[0;36m<cell line: 9>\u001b[0;34m()\u001b[0m\n\u001b[1;32m     <a href='vscode-notebook-cell:/Users/jonat/Desktop/code/movie_analysis/movie_analysis_cleaning_jg.ipynb#ch0000005?line=13'>14</a>\u001b[0m rating_list\u001b[39m.\u001b[39mappend(movie\u001b[39m.\u001b[39mget(\u001b[39m'\u001b[39m\u001b[39mrating\u001b[39m\u001b[39m'\u001b[39m))\n\u001b[1;32m     <a href='vscode-notebook-cell:/Users/jonat/Desktop/code/movie_analysis/movie_analysis_cleaning_jg.ipynb#ch0000005?line=15'>16</a>\u001b[0m \u001b[39m# try:\u001b[39;00m\n\u001b[1;32m     <a href='vscode-notebook-cell:/Users/jonat/Desktop/code/movie_analysis/movie_analysis_cleaning_jg.ipynb#ch0000005?line=16'>17</a>\u001b[0m \u001b[39m#     director_list.append(movie.get('director')[0]['name'])\u001b[39;00m\n\u001b[1;32m     <a href='vscode-notebook-cell:/Users/jonat/Desktop/code/movie_analysis/movie_analysis_cleaning_jg.ipynb#ch0000005?line=17'>18</a>\u001b[0m \u001b[39m# except:\u001b[39;00m\n\u001b[1;32m     <a href='vscode-notebook-cell:/Users/jonat/Desktop/code/movie_analysis/movie_analysis_cleaning_jg.ipynb#ch0000005?line=18'>19</a>\u001b[0m \u001b[39m#     director_list.append('No director found')\u001b[39;00m\n\u001b[0;32m---> <a href='vscode-notebook-cell:/Users/jonat/Desktop/code/movie_analysis/movie_analysis_cleaning_jg.ipynb#ch0000005?line=20'>21</a>\u001b[0m director_list\u001b[39m.\u001b[39mappend(get_director(movie\u001b[39m.\u001b[39;49mget(\u001b[39m'\u001b[39;49m\u001b[39mdirector\u001b[39;49m\u001b[39m'\u001b[39;49m)))\n\u001b[1;32m     <a href='vscode-notebook-cell:/Users/jonat/Desktop/code/movie_analysis/movie_analysis_cleaning_jg.ipynb#ch0000005?line=22'>23</a>\u001b[0m plot_outline_list\u001b[39m.\u001b[39mappend(text_preprocessing(movie\u001b[39m.\u001b[39mget(\u001b[39m'\u001b[39m\u001b[39mplot outline\u001b[39m\u001b[39m'\u001b[39m)))\n\u001b[1;32m     <a href='vscode-notebook-cell:/Users/jonat/Desktop/code/movie_analysis/movie_analysis_cleaning_jg.ipynb#ch0000005?line=23'>24</a>\u001b[0m plot_outline\u001b[39m.\u001b[39mappend(text_preprocessing(movie\u001b[39m.\u001b[39mget(\u001b[39m'\u001b[39m\u001b[39mplot outline\u001b[39m\u001b[39m'\u001b[39m)))\n",
      "File \u001b[0;32m~/Desktop/code/movie_analysis/cleaning_funcs.py:30\u001b[0m, in \u001b[0;36mget_director\u001b[0;34m(movie_object)\u001b[0m\n\u001b[1;32m     26\u001b[0m \u001b[39mdef\u001b[39;00m \u001b[39mget_director\u001b[39m(movie_object):\n\u001b[1;32m     27\u001b[0m     \u001b[39m\"\"\"\u001b[39;00m\n\u001b[1;32m     28\u001b[0m \u001b[39m    Returns director of a movie object.\u001b[39;00m\n\u001b[1;32m     29\u001b[0m \u001b[39m    \"\"\"\u001b[39;00m\n\u001b[0;32m---> 30\u001b[0m     \u001b[39mif\u001b[39;00m movie_object\u001b[39m.\u001b[39;49mget(\u001b[39m'\u001b[39m\u001b[39mdirector\u001b[39m\u001b[39m'\u001b[39m)[\u001b[39m0\u001b[39m][\u001b[39m'\u001b[39m\u001b[39mname\u001b[39m\u001b[39m'\u001b[39m]:\n\u001b[1;32m     31\u001b[0m         \u001b[39mreturn\u001b[39;00m movie_object\u001b[39m.\u001b[39mget(\u001b[39m'\u001b[39m\u001b[39mdirector\u001b[39m\u001b[39m'\u001b[39m)[\u001b[39m0\u001b[39m][\u001b[39m'\u001b[39m\u001b[39mname\u001b[39m\u001b[39m'\u001b[39m]\n\u001b[1;32m     32\u001b[0m     \u001b[39melse\u001b[39;00m:\n",
      "\u001b[0;31mAttributeError\u001b[0m: 'list' object has no attribute 'get'"
     ]
    }
   ],
   "source": [
    "title_list = []\n",
    "year_list = []\n",
    "rating_list = []\n",
    "plot_outline_list = []\n",
    "plot_outline = []\n",
    "synopsis_list = []\n",
    "director_list = []\n",
    "\n",
    "for index, row in data.iterrows():\n",
    "    movie = ia.get_movie(row['IMDb ID'])\n",
    "    \n",
    "    title_list.append(movie.get('title'))\n",
    "    year_list.append(movie.get('year'))\n",
    "    rating_list.append(movie.get('rating'))\n",
    "\n",
    "    try:\n",
    "        director_list.append(movie.get('director')[0]['name'])\n",
    "    except:\n",
    "        director_list.append('No director found')\n",
    "        \n",
    "    plot_outline_list.append(text_preprocessing(movie.get('plot outline')))\n",
    "    plot_outline.append(text_preprocessing(movie.get('plot outline')))\n",
    "    synopsis_list.append(text_preprocessing(movie.get('synopsis')))\n",
    "    # movie_data['imdbid'] = movie.get('imdbid')\n",
    "    # movie_data['directors'] = movie.get('directors') #need to parse this before we can use it\n",
    "    # movie_data['genres'] = movie.get('genres')\n",
    "    # movie_data['runtimes'] = movie.get('runtimes')\n",
    "    # movie_data['budget'] = movie.get('budget')\n",
    "    # movie_data['gross'] = movie.get('gross')\n",
    "    # movie_data['synopsis'] = movie.get('synopsis')\n",
    "\n",
    "    # temp.append([title, year, rating], ignore_index=True)\n",
    "\n",
    "data['title'] = title_list\n",
    "data['year'] = year_list\n",
    "data['rating'] = rating_list\n",
    "data['director'] = director_list\n",
    "data['plot_outline'] = plot_outline_list\n",
    "data['plot'] = plot_outline\n",
    "data['synopsis'] = synopsis_list"
   ]
  },
  {
   "cell_type": "code",
   "execution_count": 67,
   "metadata": {},
   "outputs": [
    {
     "ename": "KeyError",
     "evalue": "'IMDb ID '",
     "output_type": "error",
     "traceback": [
      "\u001b[0;31m---------------------------------------------------------------------------\u001b[0m",
      "\u001b[0;31mKeyError\u001b[0m                                  Traceback (most recent call last)",
      "File \u001b[0;32m/opt/homebrew/lib/python3.9/site-packages/pandas/core/indexes/base.py:3621\u001b[0m, in \u001b[0;36mIndex.get_loc\u001b[0;34m(self, key, method, tolerance)\u001b[0m\n\u001b[1;32m   3620\u001b[0m \u001b[39mtry\u001b[39;00m:\n\u001b[0;32m-> 3621\u001b[0m     \u001b[39mreturn\u001b[39;00m \u001b[39mself\u001b[39;49m\u001b[39m.\u001b[39;49m_engine\u001b[39m.\u001b[39;49mget_loc(casted_key)\n\u001b[1;32m   3622\u001b[0m \u001b[39mexcept\u001b[39;00m \u001b[39mKeyError\u001b[39;00m \u001b[39mas\u001b[39;00m err:\n",
      "File \u001b[0;32m/opt/homebrew/lib/python3.9/site-packages/pandas/_libs/index.pyx:136\u001b[0m, in \u001b[0;36mpandas._libs.index.IndexEngine.get_loc\u001b[0;34m()\u001b[0m\n",
      "File \u001b[0;32m/opt/homebrew/lib/python3.9/site-packages/pandas/_libs/index.pyx:163\u001b[0m, in \u001b[0;36mpandas._libs.index.IndexEngine.get_loc\u001b[0;34m()\u001b[0m\n",
      "File \u001b[0;32mpandas/_libs/hashtable_class_helper.pxi:5198\u001b[0m, in \u001b[0;36mpandas._libs.hashtable.PyObjectHashTable.get_item\u001b[0;34m()\u001b[0m\n",
      "File \u001b[0;32mpandas/_libs/hashtable_class_helper.pxi:5206\u001b[0m, in \u001b[0;36mpandas._libs.hashtable.PyObjectHashTable.get_item\u001b[0;34m()\u001b[0m\n",
      "\u001b[0;31mKeyError\u001b[0m: 'IMDb ID '",
      "\nThe above exception was the direct cause of the following exception:\n",
      "\u001b[0;31mKeyError\u001b[0m                                  Traceback (most recent call last)",
      "\u001b[1;32m/Users/jonat/Desktop/code/movie_analysis/movie_analysis_cleaning_jg.ipynb Cell 4\u001b[0m in \u001b[0;36m<cell line: 3>\u001b[0;34m()\u001b[0m\n\u001b[1;32m      <a href='vscode-notebook-cell:/Users/jonat/Desktop/code/movie_analysis/movie_analysis_cleaning_jg.ipynb#ch0000019?line=0'>1</a>\u001b[0m subset \u001b[39m=\u001b[39m data[\u001b[39m0\u001b[39m:\u001b[39m5\u001b[39m]\n\u001b[1;32m      <a href='vscode-notebook-cell:/Users/jonat/Desktop/code/movie_analysis/movie_analysis_cleaning_jg.ipynb#ch0000019?line=2'>3</a>\u001b[0m \u001b[39mfor\u001b[39;00m i, row \u001b[39min\u001b[39;00m subset\u001b[39m.\u001b[39miterrows():\n\u001b[0;32m----> <a href='vscode-notebook-cell:/Users/jonat/Desktop/code/movie_analysis/movie_analysis_cleaning_jg.ipynb#ch0000019?line=3'>4</a>\u001b[0m     movie \u001b[39m=\u001b[39m ia\u001b[39m.\u001b[39mget_movie(row[\u001b[39m'\u001b[39;49m\u001b[39mIMDb ID \u001b[39;49m\u001b[39m'\u001b[39;49m])\n\u001b[1;32m      <a href='vscode-notebook-cell:/Users/jonat/Desktop/code/movie_analysis/movie_analysis_cleaning_jg.ipynb#ch0000019?line=5'>6</a>\u001b[0m     \u001b[39mtry\u001b[39;00m:\n\u001b[1;32m      <a href='vscode-notebook-cell:/Users/jonat/Desktop/code/movie_analysis/movie_analysis_cleaning_jg.ipynb#ch0000019?line=6'>7</a>\u001b[0m         \u001b[39mprint\u001b[39m(movie\u001b[39m.\u001b[39mget(\u001b[39m'\u001b[39m\u001b[39mdirector\u001b[39m\u001b[39m'\u001b[39m)[\u001b[39m0\u001b[39m])\n",
      "File \u001b[0;32m/opt/homebrew/lib/python3.9/site-packages/pandas/core/series.py:958\u001b[0m, in \u001b[0;36mSeries.__getitem__\u001b[0;34m(self, key)\u001b[0m\n\u001b[1;32m    955\u001b[0m     \u001b[39mreturn\u001b[39;00m \u001b[39mself\u001b[39m\u001b[39m.\u001b[39m_values[key]\n\u001b[1;32m    957\u001b[0m \u001b[39melif\u001b[39;00m key_is_scalar:\n\u001b[0;32m--> 958\u001b[0m     \u001b[39mreturn\u001b[39;00m \u001b[39mself\u001b[39;49m\u001b[39m.\u001b[39;49m_get_value(key)\n\u001b[1;32m    960\u001b[0m \u001b[39mif\u001b[39;00m is_hashable(key):\n\u001b[1;32m    961\u001b[0m     \u001b[39m# Otherwise index.get_value will raise InvalidIndexError\u001b[39;00m\n\u001b[1;32m    962\u001b[0m     \u001b[39mtry\u001b[39;00m:\n\u001b[1;32m    963\u001b[0m         \u001b[39m# For labels that don't resolve as scalars like tuples and frozensets\u001b[39;00m\n",
      "File \u001b[0;32m/opt/homebrew/lib/python3.9/site-packages/pandas/core/series.py:1069\u001b[0m, in \u001b[0;36mSeries._get_value\u001b[0;34m(self, label, takeable)\u001b[0m\n\u001b[1;32m   1066\u001b[0m     \u001b[39mreturn\u001b[39;00m \u001b[39mself\u001b[39m\u001b[39m.\u001b[39m_values[label]\n\u001b[1;32m   1068\u001b[0m \u001b[39m# Similar to Index.get_value, but we do not fall back to positional\u001b[39;00m\n\u001b[0;32m-> 1069\u001b[0m loc \u001b[39m=\u001b[39m \u001b[39mself\u001b[39;49m\u001b[39m.\u001b[39;49mindex\u001b[39m.\u001b[39;49mget_loc(label)\n\u001b[1;32m   1070\u001b[0m \u001b[39mreturn\u001b[39;00m \u001b[39mself\u001b[39m\u001b[39m.\u001b[39mindex\u001b[39m.\u001b[39m_get_values_for_loc(\u001b[39mself\u001b[39m, loc, label)\n",
      "File \u001b[0;32m/opt/homebrew/lib/python3.9/site-packages/pandas/core/indexes/base.py:3623\u001b[0m, in \u001b[0;36mIndex.get_loc\u001b[0;34m(self, key, method, tolerance)\u001b[0m\n\u001b[1;32m   3621\u001b[0m     \u001b[39mreturn\u001b[39;00m \u001b[39mself\u001b[39m\u001b[39m.\u001b[39m_engine\u001b[39m.\u001b[39mget_loc(casted_key)\n\u001b[1;32m   3622\u001b[0m \u001b[39mexcept\u001b[39;00m \u001b[39mKeyError\u001b[39;00m \u001b[39mas\u001b[39;00m err:\n\u001b[0;32m-> 3623\u001b[0m     \u001b[39mraise\u001b[39;00m \u001b[39mKeyError\u001b[39;00m(key) \u001b[39mfrom\u001b[39;00m \u001b[39merr\u001b[39;00m\n\u001b[1;32m   3624\u001b[0m \u001b[39mexcept\u001b[39;00m \u001b[39mTypeError\u001b[39;00m:\n\u001b[1;32m   3625\u001b[0m     \u001b[39m# If we have a listlike key, _check_indexing_error will raise\u001b[39;00m\n\u001b[1;32m   3626\u001b[0m     \u001b[39m#  InvalidIndexError. Otherwise we fall through and re-raise\u001b[39;00m\n\u001b[1;32m   3627\u001b[0m     \u001b[39m#  the TypeError.\u001b[39;00m\n\u001b[1;32m   3628\u001b[0m     \u001b[39mself\u001b[39m\u001b[39m.\u001b[39m_check_indexing_error(key)\n",
      "\u001b[0;31mKeyError\u001b[0m: 'IMDb ID '"
     ]
    }
   ],
   "source": [
    "subset = data[0:5]\n",
    "\n",
    "for i, row in subset.iterrows():\n",
    "    movie = ia.get_movie(row['IMDb ID '])\n",
    "\n",
    "    try:\n",
    "        print(movie.get('director')[0])\n",
    "    except:\n",
    "        print('No director found')\n",
    "    # try:\n",
    "    #     director_list.append(movie.get('director')['name'])\n",
    "    # except:\n",
    "    #     director_list.append('No director found')"
   ]
  },
  {
   "cell_type": "code",
   "execution_count": 10,
   "metadata": {},
   "outputs": [
    {
     "data": {
      "text/plain": [
       "'No director found.'"
      ]
     },
     "execution_count": 10,
     "metadata": {},
     "output_type": "execute_result"
    }
   ],
   "source": [
    "get_director(movie.get('director')[0]['name'])"
   ]
  },
  {
   "cell_type": "code",
   "execution_count": null,
   "metadata": {},
   "outputs": [
    {
     "name": "stdout",
     "output_type": "stream",
     "text": [
      "Data output to /Users/jonat/Desktop/code/movie_analysis/data/movie_list_current_clean.csv\n"
     ]
    }
   ],
   "source": [
    "#write file out to csv\n",
    "output_data(data, 'movie_list_current_clean.csv')"
   ]
  }
 ],
 "metadata": {
  "kernelspec": {
   "display_name": "Python 3.9.13 64-bit",
   "language": "python",
   "name": "python3"
  },
  "language_info": {
   "codemirror_mode": {
    "name": "ipython",
    "version": 3
   },
   "file_extension": ".py",
   "mimetype": "text/x-python",
   "name": "python",
   "nbconvert_exporter": "python",
   "pygments_lexer": "ipython3",
   "version": "3.9.13"
  },
  "vscode": {
   "interpreter": {
    "hash": "b0fa6594d8f4cbf19f97940f81e996739fb7646882a419484c72d19e05852a7e"
   }
  }
 },
 "nbformat": 4,
 "nbformat_minor": 2
}
