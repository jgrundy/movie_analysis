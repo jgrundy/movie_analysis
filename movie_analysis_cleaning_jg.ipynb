{
 "cells": [
  {
   "cell_type": "code",
   "execution_count": 1,
   "metadata": {},
   "outputs": [],
   "source": [
    "import pandas as pd\n",
    "import numpy as np\n",
    "from imdb import Cinemagoer\n",
    "import matplotlib.pyplot as plt\n",
    "import datetime\n",
    "from collections import Counter\n",
    "\n",
    "from cleaning_funcs import load_data\n",
    "\n",
    "ia = Cinemagoer()\n",
    "\n",
    "%matplotlib inline\n",
    "\n",
    "#IMDb Docs: https://imdbpy.readthedocs.io/en/latest/index.html"
   ]
  },
  {
   "cell_type": "code",
   "execution_count": 2,
   "metadata": {
    "scrolled": true
   },
   "outputs": [
    {
     "name": "stdout",
     "output_type": "stream",
     "text": [
      "Number of Movies: 93\n"
     ]
    },
    {
     "data": {
      "text/html": [
       "<div>\n",
       "<style scoped>\n",
       "    .dataframe tbody tr th:only-of-type {\n",
       "        vertical-align: middle;\n",
       "    }\n",
       "\n",
       "    .dataframe tbody tr th {\n",
       "        vertical-align: top;\n",
       "    }\n",
       "\n",
       "    .dataframe thead th {\n",
       "        text-align: right;\n",
       "    }\n",
       "</style>\n",
       "<table border=\"1\" class=\"dataframe\">\n",
       "  <thead>\n",
       "    <tr style=\"text-align: right;\">\n",
       "      <th></th>\n",
       "      <th>Month</th>\n",
       "      <th>Pick</th>\n",
       "      <th>IMDb ID</th>\n",
       "      <th>Movie</th>\n",
       "      <th>Year</th>\n",
       "      <th>IMDb Score</th>\n",
       "      <th>Steven</th>\n",
       "      <th>Jon</th>\n",
       "      <th>Farzad</th>\n",
       "      <th>Average</th>\n",
       "      <th>Notes</th>\n",
       "    </tr>\n",
       "  </thead>\n",
       "  <tbody>\n",
       "    <tr>\n",
       "      <th>0</th>\n",
       "      <td>3/2019</td>\n",
       "      <td>Farzad</td>\n",
       "      <td>947798</td>\n",
       "      <td>Black Swan</td>\n",
       "      <td>2010</td>\n",
       "      <td>8.0</td>\n",
       "      <td>8.0</td>\n",
       "      <td>9.0</td>\n",
       "      <td>8.0</td>\n",
       "      <td>8.3</td>\n",
       "      <td>Inagural movie!</td>\n",
       "    </tr>\n",
       "    <tr>\n",
       "      <th>1</th>\n",
       "      <td>4/2019</td>\n",
       "      <td>Jon</td>\n",
       "      <td>156887</td>\n",
       "      <td>Perfect Blue</td>\n",
       "      <td>1997</td>\n",
       "      <td>8.0</td>\n",
       "      <td>9.0</td>\n",
       "      <td>9.0</td>\n",
       "      <td>7.0</td>\n",
       "      <td>8.3</td>\n",
       "      <td>Black Swan, but make it anime.</td>\n",
       "    </tr>\n",
       "    <tr>\n",
       "      <th>2</th>\n",
       "      <td>5/2019</td>\n",
       "      <td>Steven</td>\n",
       "      <td>311113</td>\n",
       "      <td>Master and Commander: The Far Side of the World</td>\n",
       "      <td>2003</td>\n",
       "      <td>7.4</td>\n",
       "      <td>9.5</td>\n",
       "      <td>8.0</td>\n",
       "      <td>8.0</td>\n",
       "      <td>8.5</td>\n",
       "      <td>https://www.youtube.com/watch?v=mq1YthGFjRI</td>\n",
       "    </tr>\n",
       "  </tbody>\n",
       "</table>\n",
       "</div>"
      ],
      "text/plain": [
       "    Month    Pick  IMDb ID                                            Movie  \\\n",
       "0  3/2019  Farzad   947798                                       Black Swan   \n",
       "1  4/2019     Jon   156887                                     Perfect Blue   \n",
       "2  5/2019  Steven   311113  Master and Commander: The Far Side of the World   \n",
       "\n",
       "   Year  IMDb Score  Steven  Jon  Farzad  Average  \\\n",
       "0  2010         8.0     8.0  9.0     8.0      8.3   \n",
       "1  1997         8.0     9.0  9.0     7.0      8.3   \n",
       "2  2003         7.4     9.5  8.0     8.0      8.5   \n",
       "\n",
       "                                         Notes  \n",
       "0                              Inagural movie!  \n",
       "1              Black Swan, but make it anime.   \n",
       "2  https://www.youtube.com/watch?v=mq1YthGFjRI  "
      ]
     },
     "execution_count": 2,
     "metadata": {},
     "output_type": "execute_result"
    }
   ],
   "source": [
    "data = load_data('movie_list_current.csv')\n",
    "data = data[['Month', 'Pick', 'IMDb ID', 'Movie', 'Year', 'IMDb Score', 'Steven', 'Jon', 'Farzad', 'Average', 'Notes']]\n",
    "print(\"Number of Movies:\", data.shape[0])\n",
    "data = data[data.Steven.notnull()]\n",
    "data.head(3)"
   ]
  },
  {
   "cell_type": "code",
   "execution_count": 5,
   "metadata": {},
   "outputs": [
    {
     "data": {
      "text/plain": [
       "'Black Swan'"
      ]
     },
     "execution_count": 5,
     "metadata": {},
     "output_type": "execute_result"
    }
   ],
   "source": [
    "# subset = data[0:10]\n",
    "# test_movie = ia.get_movie(subset.loc[0]['IMDb ID'])\n",
    "# test_movie.get('title')"
   ]
  },
  {
   "cell_type": "code",
   "execution_count": 75,
   "metadata": {},
   "outputs": [
    {
     "name": "stderr",
     "output_type": "stream",
     "text": [
      "/var/folders/8m/_5jnf1912wg4yn1spmnkt87c0000gn/T/ipykernel_37186/3948858551.py:20: FutureWarning: The frame.append method is deprecated and will be removed from pandas in a future version. Use pandas.concat instead.\n",
      "  temp.append(title, year, rating)\n"
     ]
    },
    {
     "ename": "TypeError",
     "evalue": "cannot concatenate object of type '<class 'str'>'; only Series and DataFrame objs are valid",
     "output_type": "error",
     "traceback": [
      "\u001b[0;31m---------------------------------------------------------------------------\u001b[0m",
      "\u001b[0;31mTypeError\u001b[0m                                 Traceback (most recent call last)",
      "\u001b[1;32m/Users/jonat/Desktop/code/movie_analysis/movie_analysis_cleaning_jg.ipynb Cell 4\u001b[0m in \u001b[0;36m<cell line: 3>\u001b[0;34m()\u001b[0m\n\u001b[1;32m     <a href='vscode-notebook-cell:/Users/jonat/Desktop/code/movie_analysis/movie_analysis_cleaning_jg.ipynb#ch0000005?line=11'>12</a>\u001b[0m     rating \u001b[39m=\u001b[39m movie\u001b[39m.\u001b[39mget(\u001b[39m'\u001b[39m\u001b[39mrating\u001b[39m\u001b[39m'\u001b[39m)\n\u001b[1;32m     <a href='vscode-notebook-cell:/Users/jonat/Desktop/code/movie_analysis/movie_analysis_cleaning_jg.ipynb#ch0000005?line=12'>13</a>\u001b[0m     \u001b[39m# movie_data['genres'] = movie.get('genres')\u001b[39;00m\n\u001b[1;32m     <a href='vscode-notebook-cell:/Users/jonat/Desktop/code/movie_analysis/movie_analysis_cleaning_jg.ipynb#ch0000005?line=13'>14</a>\u001b[0m     \u001b[39m# movie_data['runtimes'] = movie.get('runtimes')\u001b[39;00m\n\u001b[1;32m     <a href='vscode-notebook-cell:/Users/jonat/Desktop/code/movie_analysis/movie_analysis_cleaning_jg.ipynb#ch0000005?line=14'>15</a>\u001b[0m     \u001b[39m# movie_data['budget'] = movie.get('budget')\u001b[39;00m\n\u001b[1;32m     <a href='vscode-notebook-cell:/Users/jonat/Desktop/code/movie_analysis/movie_analysis_cleaning_jg.ipynb#ch0000005?line=15'>16</a>\u001b[0m     \u001b[39m# movie_data['gross'] = movie.get('gross')\u001b[39;00m\n\u001b[1;32m     <a href='vscode-notebook-cell:/Users/jonat/Desktop/code/movie_analysis/movie_analysis_cleaning_jg.ipynb#ch0000005?line=16'>17</a>\u001b[0m     \u001b[39m# movie_data['plot'] = movie.get('plot')\u001b[39;00m\n\u001b[1;32m     <a href='vscode-notebook-cell:/Users/jonat/Desktop/code/movie_analysis/movie_analysis_cleaning_jg.ipynb#ch0000005?line=17'>18</a>\u001b[0m     \u001b[39m# movie_data['synopsis'] = movie.get('synopsis')\u001b[39;00m\n\u001b[0;32m---> <a href='vscode-notebook-cell:/Users/jonat/Desktop/code/movie_analysis/movie_analysis_cleaning_jg.ipynb#ch0000005?line=19'>20</a>\u001b[0m     temp\u001b[39m.\u001b[39;49mappend(title, year, rating)\n\u001b[1;32m     <a href='vscode-notebook-cell:/Users/jonat/Desktop/code/movie_analysis/movie_analysis_cleaning_jg.ipynb#ch0000005?line=21'>22</a>\u001b[0m pd\u001b[39m.\u001b[39mconcat(subset, temp)\n",
      "File \u001b[0;32m/opt/homebrew/lib/python3.9/site-packages/pandas/core/frame.py:9045\u001b[0m, in \u001b[0;36mDataFrame.append\u001b[0;34m(self, other, ignore_index, verify_integrity, sort)\u001b[0m\n\u001b[1;32m   8942\u001b[0m \u001b[39m\"\"\"\u001b[39;00m\n\u001b[1;32m   8943\u001b[0m \u001b[39mAppend rows of `other` to the end of caller, returning a new object.\u001b[39;00m\n\u001b[1;32m   8944\u001b[0m \n\u001b[0;32m   (...)\u001b[0m\n\u001b[1;32m   9035\u001b[0m \u001b[39m4  4\u001b[39;00m\n\u001b[1;32m   9036\u001b[0m \u001b[39m\"\"\"\u001b[39;00m\n\u001b[1;32m   9037\u001b[0m warnings\u001b[39m.\u001b[39mwarn(\n\u001b[1;32m   9038\u001b[0m     \u001b[39m\"\u001b[39m\u001b[39mThe frame.append method is deprecated \u001b[39m\u001b[39m\"\u001b[39m\n\u001b[1;32m   9039\u001b[0m     \u001b[39m\"\u001b[39m\u001b[39mand will be removed from pandas in a future version. \u001b[39m\u001b[39m\"\u001b[39m\n\u001b[0;32m   (...)\u001b[0m\n\u001b[1;32m   9042\u001b[0m     stacklevel\u001b[39m=\u001b[39mfind_stack_level(),\n\u001b[1;32m   9043\u001b[0m )\n\u001b[0;32m-> 9045\u001b[0m \u001b[39mreturn\u001b[39;00m \u001b[39mself\u001b[39;49m\u001b[39m.\u001b[39;49m_append(other, ignore_index, verify_integrity, sort)\n",
      "File \u001b[0;32m/opt/homebrew/lib/python3.9/site-packages/pandas/core/frame.py:9088\u001b[0m, in \u001b[0;36mDataFrame._append\u001b[0;34m(self, other, ignore_index, verify_integrity, sort)\u001b[0m\n\u001b[1;32m   9085\u001b[0m \u001b[39melse\u001b[39;00m:\n\u001b[1;32m   9086\u001b[0m     to_concat \u001b[39m=\u001b[39m [\u001b[39mself\u001b[39m, other]\n\u001b[0;32m-> 9088\u001b[0m result \u001b[39m=\u001b[39m concat(\n\u001b[1;32m   9089\u001b[0m     to_concat,\n\u001b[1;32m   9090\u001b[0m     ignore_index\u001b[39m=\u001b[39;49mignore_index,\n\u001b[1;32m   9091\u001b[0m     verify_integrity\u001b[39m=\u001b[39;49mverify_integrity,\n\u001b[1;32m   9092\u001b[0m     sort\u001b[39m=\u001b[39;49msort,\n\u001b[1;32m   9093\u001b[0m )\n\u001b[1;32m   9094\u001b[0m \u001b[39mif\u001b[39;00m (\n\u001b[1;32m   9095\u001b[0m     combined_columns \u001b[39mis\u001b[39;00m \u001b[39mnot\u001b[39;00m \u001b[39mNone\u001b[39;00m\n\u001b[1;32m   9096\u001b[0m     \u001b[39mand\u001b[39;00m \u001b[39mnot\u001b[39;00m sort\n\u001b[0;32m   (...)\u001b[0m\n\u001b[1;32m   9101\u001b[0m     \u001b[39m# combined_columns.equals check is necessary for preserving dtype\u001b[39;00m\n\u001b[1;32m   9102\u001b[0m     \u001b[39m#  in test_crosstab_normalize\u001b[39;00m\n\u001b[1;32m   9103\u001b[0m     result \u001b[39m=\u001b[39m result\u001b[39m.\u001b[39mreindex(combined_columns, axis\u001b[39m=\u001b[39m\u001b[39m1\u001b[39m)\n",
      "File \u001b[0;32m/opt/homebrew/lib/python3.9/site-packages/pandas/util/_decorators.py:311\u001b[0m, in \u001b[0;36mdeprecate_nonkeyword_arguments.<locals>.decorate.<locals>.wrapper\u001b[0;34m(*args, **kwargs)\u001b[0m\n\u001b[1;32m    305\u001b[0m \u001b[39mif\u001b[39;00m \u001b[39mlen\u001b[39m(args) \u001b[39m>\u001b[39m num_allow_args:\n\u001b[1;32m    306\u001b[0m     warnings\u001b[39m.\u001b[39mwarn(\n\u001b[1;32m    307\u001b[0m         msg\u001b[39m.\u001b[39mformat(arguments\u001b[39m=\u001b[39marguments),\n\u001b[1;32m    308\u001b[0m         \u001b[39mFutureWarning\u001b[39;00m,\n\u001b[1;32m    309\u001b[0m         stacklevel\u001b[39m=\u001b[39mstacklevel,\n\u001b[1;32m    310\u001b[0m     )\n\u001b[0;32m--> 311\u001b[0m \u001b[39mreturn\u001b[39;00m func(\u001b[39m*\u001b[39;49margs, \u001b[39m*\u001b[39;49m\u001b[39m*\u001b[39;49mkwargs)\n",
      "File \u001b[0;32m/opt/homebrew/lib/python3.9/site-packages/pandas/core/reshape/concat.py:347\u001b[0m, in \u001b[0;36mconcat\u001b[0;34m(objs, axis, join, ignore_index, keys, levels, names, verify_integrity, sort, copy)\u001b[0m\n\u001b[1;32m    143\u001b[0m \u001b[39m@deprecate_nonkeyword_arguments\u001b[39m(version\u001b[39m=\u001b[39m\u001b[39mNone\u001b[39;00m, allowed_args\u001b[39m=\u001b[39m[\u001b[39m\"\u001b[39m\u001b[39mobjs\u001b[39m\u001b[39m\"\u001b[39m])\n\u001b[1;32m    144\u001b[0m \u001b[39mdef\u001b[39;00m \u001b[39mconcat\u001b[39m(\n\u001b[1;32m    145\u001b[0m     objs: Iterable[NDFrame] \u001b[39m|\u001b[39m Mapping[Hashable, NDFrame],\n\u001b[0;32m   (...)\u001b[0m\n\u001b[1;32m    154\u001b[0m     copy: \u001b[39mbool\u001b[39m \u001b[39m=\u001b[39m \u001b[39mTrue\u001b[39;00m,\n\u001b[1;32m    155\u001b[0m ) \u001b[39m-\u001b[39m\u001b[39m>\u001b[39m DataFrame \u001b[39m|\u001b[39m Series:\n\u001b[1;32m    156\u001b[0m     \u001b[39m\"\"\"\u001b[39;00m\n\u001b[1;32m    157\u001b[0m \u001b[39m    Concatenate pandas objects along a particular axis with optional set logic\u001b[39;00m\n\u001b[1;32m    158\u001b[0m \u001b[39m    along the other axes.\u001b[39;00m\n\u001b[0;32m   (...)\u001b[0m\n\u001b[1;32m    345\u001b[0m \u001b[39m    ValueError: Indexes have overlapping values: ['a']\u001b[39;00m\n\u001b[1;32m    346\u001b[0m \u001b[39m    \"\"\"\u001b[39;00m\n\u001b[0;32m--> 347\u001b[0m     op \u001b[39m=\u001b[39m _Concatenator(\n\u001b[1;32m    348\u001b[0m         objs,\n\u001b[1;32m    349\u001b[0m         axis\u001b[39m=\u001b[39;49maxis,\n\u001b[1;32m    350\u001b[0m         ignore_index\u001b[39m=\u001b[39;49mignore_index,\n\u001b[1;32m    351\u001b[0m         join\u001b[39m=\u001b[39;49mjoin,\n\u001b[1;32m    352\u001b[0m         keys\u001b[39m=\u001b[39;49mkeys,\n\u001b[1;32m    353\u001b[0m         levels\u001b[39m=\u001b[39;49mlevels,\n\u001b[1;32m    354\u001b[0m         names\u001b[39m=\u001b[39;49mnames,\n\u001b[1;32m    355\u001b[0m         verify_integrity\u001b[39m=\u001b[39;49mverify_integrity,\n\u001b[1;32m    356\u001b[0m         copy\u001b[39m=\u001b[39;49mcopy,\n\u001b[1;32m    357\u001b[0m         sort\u001b[39m=\u001b[39;49msort,\n\u001b[1;32m    358\u001b[0m     )\n\u001b[1;32m    360\u001b[0m     \u001b[39mreturn\u001b[39;00m op\u001b[39m.\u001b[39mget_result()\n",
      "File \u001b[0;32m/opt/homebrew/lib/python3.9/site-packages/pandas/core/reshape/concat.py:437\u001b[0m, in \u001b[0;36m_Concatenator.__init__\u001b[0;34m(self, objs, axis, join, keys, levels, names, ignore_index, verify_integrity, copy, sort)\u001b[0m\n\u001b[1;32m    432\u001b[0m     \u001b[39mif\u001b[39;00m \u001b[39mnot\u001b[39;00m \u001b[39misinstance\u001b[39m(obj, (ABCSeries, ABCDataFrame)):\n\u001b[1;32m    433\u001b[0m         msg \u001b[39m=\u001b[39m (\n\u001b[1;32m    434\u001b[0m             \u001b[39mf\u001b[39m\u001b[39m\"\u001b[39m\u001b[39mcannot concatenate object of type \u001b[39m\u001b[39m'\u001b[39m\u001b[39m{\u001b[39;00m\u001b[39mtype\u001b[39m(obj)\u001b[39m}\u001b[39;00m\u001b[39m'\u001b[39m\u001b[39m; \u001b[39m\u001b[39m\"\u001b[39m\n\u001b[1;32m    435\u001b[0m             \u001b[39m\"\u001b[39m\u001b[39monly Series and DataFrame objs are valid\u001b[39m\u001b[39m\"\u001b[39m\n\u001b[1;32m    436\u001b[0m         )\n\u001b[0;32m--> 437\u001b[0m         \u001b[39mraise\u001b[39;00m \u001b[39mTypeError\u001b[39;00m(msg)\n\u001b[1;32m    439\u001b[0m     ndims\u001b[39m.\u001b[39madd(obj\u001b[39m.\u001b[39mndim)\n\u001b[1;32m    441\u001b[0m \u001b[39m# get the sample\u001b[39;00m\n\u001b[1;32m    442\u001b[0m \u001b[39m# want the highest ndim that we have, and must be non-empty\u001b[39;00m\n\u001b[1;32m    443\u001b[0m \u001b[39m# unless all objs are empty\u001b[39;00m\n",
      "\u001b[0;31mTypeError\u001b[0m: cannot concatenate object of type '<class 'str'>'; only Series and DataFrame objs are valid"
     ]
    }
   ],
   "source": [
    "subset = data[0:3]\n",
    "\n",
    "for index, row in subset.iterrows():\n",
    "    temp = pd.DataFrame()\n",
    "\n",
    "    movie = ia.get_movie(row['IMDb ID'])\n",
    "    \n",
    "    title = movie.get('title')\n",
    "    year = movie.get('year')\n",
    "    # movie_data['imdbid'] = movie.get('imdbid')\n",
    "    # movie_data['directors'] = movie.get('directors') #need to parse this before we can use it\n",
    "    rating = movie.get('rating')\n",
    "    # movie_data['genres'] = movie.get('genres')\n",
    "    # movie_data['runtimes'] = movie.get('runtimes')\n",
    "    # movie_data['budget'] = movie.get('budget')\n",
    "    # movie_data['gross'] = movie.get('gross')\n",
    "    # movie_data['plot'] = movie.get('plot')\n",
    "    # movie_data['synopsis'] = movie.get('synopsis')\n",
    "\n",
    "    temp.append(title, year, rating)\n",
    "\n",
    "pd.concat(subset, temp)"
   ]
  },
  {
   "cell_type": "code",
   "execution_count": 73,
   "metadata": {},
   "outputs": [
    {
     "data": {
      "text/plain": [
       "{'title': ['Master and Commander: The Far Side of the World'],\n",
       " 'year': [2003],\n",
       " 'score': [7.4]}"
      ]
     },
     "execution_count": 73,
     "metadata": {},
     "output_type": "execute_result"
    }
   ],
   "source": []
  },
  {
   "cell_type": "code",
   "execution_count": null,
   "metadata": {},
   "outputs": [],
   "source": []
  }
 ],
 "metadata": {
  "kernelspec": {
   "display_name": "Python 3.9.13 64-bit",
   "language": "python",
   "name": "python3"
  },
  "language_info": {
   "codemirror_mode": {
    "name": "ipython",
    "version": 3
   },
   "file_extension": ".py",
   "mimetype": "text/x-python",
   "name": "python",
   "nbconvert_exporter": "python",
   "pygments_lexer": "ipython3",
   "version": "3.9.13"
  },
  "vscode": {
   "interpreter": {
    "hash": "b0fa6594d8f4cbf19f97940f81e996739fb7646882a419484c72d19e05852a7e"
   }
  }
 },
 "nbformat": 4,
 "nbformat_minor": 2
}
