{
 "cells": [
  {
   "cell_type": "code",
   "execution_count": 3,
   "metadata": {},
   "outputs": [],
   "source": [
    "import pandas as pd\n",
    "import numpy as np\n",
    "from imdb import Cinemagoer\n",
    "import matplotlib.pyplot as plt\n",
    "import datetime\n",
    "from collections import Counter\n",
    "\n",
    "ia = Cinemagoer()\n",
    "\n",
    "%matplotlib inline\n",
    "\n",
    "#IMDb Docs: https://imdbpy.readthedocs.io/en/latest/index.html"
   ]
  },
  {
   "cell_type": "code",
   "execution_count": 10,
   "metadata": {
    "scrolled": true
   },
   "outputs": [
    {
     "name": "stdout",
     "output_type": "stream",
     "text": [
      "Number of Movies: 93\n"
     ]
    },
    {
     "data": {
      "text/html": [
       "<div>\n",
       "<style scoped>\n",
       "    .dataframe tbody tr th:only-of-type {\n",
       "        vertical-align: middle;\n",
       "    }\n",
       "\n",
       "    .dataframe tbody tr th {\n",
       "        vertical-align: top;\n",
       "    }\n",
       "\n",
       "    .dataframe thead th {\n",
       "        text-align: right;\n",
       "    }\n",
       "</style>\n",
       "<table border=\"1\" class=\"dataframe\">\n",
       "  <thead>\n",
       "    <tr style=\"text-align: right;\">\n",
       "      <th></th>\n",
       "      <th>Month</th>\n",
       "      <th>Pick</th>\n",
       "      <th>IMDb ID</th>\n",
       "      <th>Movie</th>\n",
       "      <th>Year</th>\n",
       "      <th>IMDb Score</th>\n",
       "      <th>Steven</th>\n",
       "      <th>Jon</th>\n",
       "      <th>Farzad</th>\n",
       "      <th>Average</th>\n",
       "      <th>Notes</th>\n",
       "    </tr>\n",
       "  </thead>\n",
       "  <tbody>\n",
       "    <tr>\n",
       "      <th>0</th>\n",
       "      <td>3/2019</td>\n",
       "      <td>Farzad</td>\n",
       "      <td>947798</td>\n",
       "      <td>Black Swan</td>\n",
       "      <td>2010</td>\n",
       "      <td>8.0</td>\n",
       "      <td>8.0</td>\n",
       "      <td>9.0</td>\n",
       "      <td>8.0</td>\n",
       "      <td>8.3</td>\n",
       "      <td>Inagural movie!</td>\n",
       "    </tr>\n",
       "    <tr>\n",
       "      <th>1</th>\n",
       "      <td>4/2019</td>\n",
       "      <td>Jon</td>\n",
       "      <td>156887</td>\n",
       "      <td>Perfect Blue</td>\n",
       "      <td>1997</td>\n",
       "      <td>8.0</td>\n",
       "      <td>9.0</td>\n",
       "      <td>9.0</td>\n",
       "      <td>7.0</td>\n",
       "      <td>8.3</td>\n",
       "      <td>Black Swan, but make it anime.</td>\n",
       "    </tr>\n",
       "    <tr>\n",
       "      <th>2</th>\n",
       "      <td>5/2019</td>\n",
       "      <td>Steven</td>\n",
       "      <td>311113</td>\n",
       "      <td>Master and Commander: The Far Side of the World</td>\n",
       "      <td>2003</td>\n",
       "      <td>7.4</td>\n",
       "      <td>9.5</td>\n",
       "      <td>8.0</td>\n",
       "      <td>8.0</td>\n",
       "      <td>8.5</td>\n",
       "      <td>https://www.youtube.com/watch?v=mq1YthGFjRI</td>\n",
       "    </tr>\n",
       "  </tbody>\n",
       "</table>\n",
       "</div>"
      ],
      "text/plain": [
       "    Month    Pick  IMDb ID                                            Movie  \\\n",
       "0  3/2019  Farzad   947798                                       Black Swan   \n",
       "1  4/2019     Jon   156887                                     Perfect Blue   \n",
       "2  5/2019  Steven   311113  Master and Commander: The Far Side of the World   \n",
       "\n",
       "   Year  IMDb Score  Steven  Jon  Farzad  Average  \\\n",
       "0  2010         8.0     8.0  9.0     8.0      8.3   \n",
       "1  1997         8.0     9.0  9.0     7.0      8.3   \n",
       "2  2003         7.4     9.5  8.0     8.0      8.5   \n",
       "\n",
       "                                         Notes  \n",
       "0                              Inagural movie!  \n",
       "1              Black Swan, but make it anime.   \n",
       "2  https://www.youtube.com/watch?v=mq1YthGFjRI  "
      ]
     },
     "execution_count": 10,
     "metadata": {},
     "output_type": "execute_result"
    }
   ],
   "source": [
    "data = pd.read_csv('./data/movie_list_current.csv')\n",
    "data = data[['Month', 'Pick', 'IMDb ID', 'Movie', 'Year', 'IMDb Score', 'Steven', 'Jon', 'Farzad', 'Average', 'Notes']]\n",
    "print(\"Number of Movies:\", data.shape[0])\n",
    "data = data[data.Steven.notnull()]\n",
    "data.head(3)"
   ]
  },
  {
   "cell_type": "code",
   "execution_count": 9,
   "metadata": {},
   "outputs": [
    {
     "name": "stdout",
     "output_type": "stream",
     "text": [
      "Black Swan\n",
      "\n",
      "Perfect Blue\n",
      "\n",
      "Master and Commander: The Far Side of the World\n",
      "\n",
      "Show Me a Hero\n",
      "\n",
      "10 Things I Hate About You\n",
      "\n",
      "Blindspotting\n",
      "\n",
      "Minority Report\n",
      "\n",
      "The Talented Mr. Ripley\n",
      "\n",
      "Hustlers\n",
      "\n",
      "Jennifer's Body\n",
      "\n"
     ]
    }
   ],
   "source": [
    "subset = data[0:10]\n",
    "\n",
    "for i in subset['IMDb ID']:\n",
    "    try:\n",
    "        movie = ia.get_movie(i)\n",
    "        print(movie)\n",
    "        print()\n",
    "    except:\n",
    "        pass"
   ]
  },
  {
   "cell_type": "code",
   "execution_count": 20,
   "metadata": {},
   "outputs": [
    {
     "data": {
      "text/plain": [
       "['Drama', 'Thriller']"
      ]
     },
     "execution_count": 20,
     "metadata": {},
     "output_type": "execute_result"
    }
   ],
   "source": [
    "# ia.get_movie(subset[0])\n",
    "test_movie = ia.get_movie(subset.loc[0]['IMDb ID'])\n"
   ]
  },
  {
   "cell_type": "code",
   "execution_count": 37,
   "metadata": {},
   "outputs": [
    {
     "data": {
      "text/plain": [
       "{'name': 'Natalie Portman',\n",
       " 'canonical name': 'Portman, Natalie',\n",
       " 'long imdb name': 'Natalie Portman',\n",
       " 'long imdb canonical name': 'Portman, Natalie'}"
      ]
     },
     "execution_count": 37,
     "metadata": {},
     "output_type": "execute_result"
    }
   ],
   "source": [
    "natport = test_movie.get('cast')[0]"
   ]
  },
  {
   "cell_type": "code",
   "execution_count": 24,
   "metadata": {},
   "outputs": [
    {
     "name": "stdout",
     "output_type": "stream",
     "text": [
      "The movie opens as Nina Sayers (Natalie Portman), a young ballerina in her mid twenties, is dancing the prologue to Swan Lake. Swan Lake is a ballet in which a princess is turned into the White Swan and can only be turned back if a man swears eternal fidelity to her. In the ballet, she is betrayed by the Black Swan, the evil magician's daughter whom the magician has transformed to look exactly like the princess in order to trick the prince who has fallen in love with her. In the end, the princess commits suicide because the Prince's infidelity has doomed her to remain a swan forever. As Nina dances in the role of the Princess, the magician appears and places the curse on the Princess. Nina then wakes up in her apartment, the dance sequence having been a dream. She begins her daily ballet stretching; telling her mother about her dream as her mother unintentionally ignores her. Nina mentions that the director, Thomas Leroy (pronounced Tomahs; the name is French), of her ballet company has promised to feature her more this season and her mother agrees that she's been there long enough.\n",
      "\n",
      "Nina goes to the ballet studio only to learn that Beth (Winona Ryder), the lead principal dancer, is being put out to pasture due to her age as she is over 40. As a result, Thomas (Vincent Cassel) is looking for a new face to be the lead. Thomas announces to the company that the first performance of the season will be a reworking of Swan Lake. He casually walks among the dancers as they're practising nonchalantly, tapping several girls on the shoulder as he talks. He then tells those he tapped to attend their regular rehearsals; those he didn't tap are to meet with him later in the principal studio.\n",
      "\n",
      "Nina sees Beth having an emotional meltdown in her private dressing room, throwing things and breaking the full length mirror. After Beth leaves, Nina decides to take a peek inside. She sits down in Beth's chair and stares at herself in a mirror surrounded by globe lights. She begins to go through Beth's things and stashes several items in her pocket, specifically perfume, diamond earrings, a nail file and tube of lipstick. She sneaks out of Beth's dressing room.\n",
      "\n",
      "Later, in the principal studio, auditions are being held to find Beth's replacement as the Swan Princess. Nina dances the White Swan impeccably, and then Thomas tells Nina to dance as the Black Swan. As Nina begins the dance her audition is interrupted by the late arrival of new dancer, Lily (Mila Kunis). Already fearing imperfection and disappointing Thomas, she loses focus as Lily noisily closes the door and stops. Despite her flawless performance as the White Swan, Thomas is not impressed by Nina's performance, stating she failed to capture the sensuality of the Black Swan. Nina goes home to her mother and bursts into tears and practices her dance moves until she cracks her big toe nail. Later, when her mother tucks her in, Nina tells her she can go to Thomas the next day and tell him she finished the Black Swan dance, but her mother tells her there is no need to lie and Nina nods in defeated agreement.\n",
      "\n",
      "The next day, Nina visits Thomas in his office and tells him she finished the Black Swan dance at home and wants the role. He tells her that he's decided to give it to another dancer, Veronica (Ksenia Soto). She says 'okay' and begins to leave but he slams the door and asks her why she's giving up. He grabs her face and kisses her passionately. Angered by this unwanted advance, Nina bites him on the lip and runs out of his office which both shocks and impresses Thomas.\n",
      "\n",
      "The girls begin running down the hall to find out who has been chosen as the new Swan Queen. Feeling certain she didn't get the role, Nina congratulates Veronica for getting it. The girl runs to see the posting but walks back to Nina and berates her for the cruel joke before walking off down the hall. Stunned and confused, Nina goes to look at the posting. As she approaches, several girls gather around her shouting congratulations at her. Overjoyed, and nauseous, she runs to the bathroom where she calls her mother from one of the stalls and tells her that she won the part. When she leaves the stall she sees the word \"whore\" written on the mirror in red lipstick and frantically struggles to wipe it off. When Nina gets home, her mother has ordered her a beautiful pink and white frosted cake -- strawberries and cream, their favorite from the local bakery -- that she presents to Nina when she walks in the door to celebrate Nina acquiring the role in the ballet. Her mother starts to cut her a slice but Nina refuses, telling her she can't eat something like that and when her mother gives her a look, Nina continues, saying that her stomach is still in knots. Becoming angry, her mother begins to throw the cake out which leaves Nina feeling guilty. She accepts a slice and takes a small bite.\n",
      "\n",
      "Over the next several days, the stress of the role and her inability to perform get to Nina. She begins seeing a darker version of herself in random passers-by.\n",
      "\n",
      "Thomas holds a gala to officially announce Beth's \"retirement\" and Nina's rise as the Swan Queen. Nina goes to the bathroom and on her way out encounters Lily coming in. In front of Nina, Lily takes off her panties and puts them in her purse, then sits down on vanity. She congratulates Nina on her role, but Nina is uncomfortable and attempts to excuse herself. Lily playfully asks her to stay, but Nina leaves.\n",
      "\n",
      "As Nina and Thomas leave the party, Thomas is briefly called back inside. Intoxicated, with her eyes dripping with black mascara from crying, Beth confronts Nina and asks her if she had to suck Thomas' cock to get the role. Nina is offended, and tells Beth that not everyone has to. Beth continues to rant until Thomas appears and diffuses the situation, soothing Beth by calling her \"My little princess.\" Beth shouts after them as Thomas leads Nina out. He takes Nina back to his place. When they sit on the couch, he brusquely asks her if she she's a virgin. She looks away and smiles uncomfortably. He asks if she likes making love and when she won't answer, he gives her a homework assignment: she must touch herself and find her sexuality so that she may better inhabit the role.\n",
      "\n",
      "Later, when Nina's mother is helping her dress for bed she sees scratches on Nina's back, and asks what they are from. Nina says they're nothing but a rash and her mother becomes angry and hints that Nina hasn't scratched herself like this since she was younger, and she thought Nina was over this. Nina tries to brush her off but her mother grabs her hand and takes her to the bathroom to cut her fingernails with scissors. She accidentally cuts Nina's finger and apologizes profusely but continues to trim Nina's nails.\n",
      "\n",
      "Nina wakes up the next morning and begins touching herself as Thomas asked. When she becomes aroused, she goes faster and turns over. As she gets closer, she turns her head to the left and is startled to realize her mother is asleep in the chair next to her bed.\n",
      "\n",
      "The next day the company is practising and a girl runs in, crying hysterically. She runs to the teacher who comforts her and asks what happened. She says Beth is in the hospital after an accident when she got hit by a passing car. Later, Nina is sitting at the edge of a fountain with Thomas and he tells her he believes that Beth threw herself into oncoming traffic. She visits Beth in the hospital where she finds her room filled with beautiful flowers and cards wishing her a quick recovery. As Beth lays comatose in the bed, Nina lifts up the sheet draped over Beth and sees metal bars sticking out of her leg and a huge, infected gash on her calf. Horrified, she quickly turns to leave and bumps into Beth's nurse (Leslie Lyles) who asks what she is doing there.\n",
      "\n",
      "She goes to practice and still cannot get the passion of the Black Swan into her performance. Suddenly the lights go out and Thomas calls for someone to turn them back on, that there are still people rehearsing. The lights come back on, but a clearly disappointed Thomas sends the other dancers home and steps in to dance as Nina's partner. As they dance together, he slowly moves his hands under her thighs and begins touching her. After a deep kiss, he lets go of her and walks away, calling over his shoulder that he just seduced her and that it should be her doing the seducing with her dancing. Nina calls after, pleading, but he does not turn back.\n",
      "\n",
      "Nina, feeling defeated in her attempt to be perfect, sits alone and cries in the studio. Lily arrives, sees Nina crying, and lights a cigarette as she walks up. Lily chats casually, implying that Thomas has a tendency of sleeping with the troupe and Nina tries to defend him. Lily realizes that Nina has a crush on Thomas and jokes about it. Infuriated by such a thought, Nina gets upset and leaves.\n",
      "\n",
      "The next day, Thomas angrily asks Nina if she needs time off after a comment from Lily that he should take it easy on her. He says she has no business whining and she fervently defends herself saying she didn't. Angered, Nina tracks Lily down in the troupe dressing room where she is greeted with banter from the other dancers who say that \"the queen\" is gracing them with her presence on their turf. Lily tells them to shut up and gets up to talk to Nina. Nina berates Lily for telling Thomas that she'd been crying. Lily looks abashed and says she was just trying to help. Nina tells her she doesn't need the help and Lily walks away irritated.\n",
      "\n",
      "That night, Nina and her mother are working on Nina's toe shoes. Erica (Nina's mother) is making small talk that sounds condescending to Nina so she starts answering with slight hostility without looking up at Erica. Her mother asks Nina if she's been scratching and Nina unintentionally pauses just long enough for Erica to not believe Nina when she says \"no\". Erica tells her to take off her shirt and Nina refuses so Erica stands over Nina and demands it but Nina says no in a biting tone. Before Erica can get her confirmation there is a knock at the door. She answers the door and talks quickly to someone before closing it again. Nina asks who it was but Erica says it was no one, so Nina demands to know again and when Erica still won't tell her she runs to the door and opens it. She sees Lily waiting for the elevator. Nina walks out into the hallway and asks Lily how she knew where she lived and Lily responds with sarcasm. But Nina looks angry so Lily laughingly says she asked Thomas' secretary. Erica opens the door and says Nina needs to come in and rest. Nina tells her to shut the door, which Erica slams. Lily invites her out and Nina says she can't, but after Erica opens the door and tells her once more and tells Nina to come back inside and also asks Lily to leave, Nina pushes the door open to grab her stuff and leaves with Lily, despite her mother's protests shouted down the hall that it's the night before a long day of work and she should stay home.\n",
      "\n",
      "Nina and Lily go out to a local bar for drinks and some food, but Nina is so uptight that Lily offers her a pill to relax, saying it would only last a few hours. Nina turns it down. She goes to the bathroom and returns to see Lily slip the content of the pill into a drink, as she flirts with two guys she is calling Tom (Toby Hemingway) and \"Jerry\" though he tells her his real name is Andrew. Nina is reassured by Lily that the pills will only last a few hours and downs her glass. The two have a crazy, drugged night of clubbing with two guys. When Nina is next lucid, she finds herself hooking up with a man in a bathroom. She quickly leaves to find a cab and Lily runs to catch up with her. They take the taxi back to Nina's apartment and Lily comes onto Nina and begins gently rubbing Nina's crotch until Nina stops her and just holds Lily's hand.\n",
      "\n",
      "When they get back to the apartment, Nina's mother is waiting for them and asks Nina what she was doing out late. Nina is drunk and somewhat belligerent but finally says, \"I was with two guys named Tom and Jerry and I fucked them both,\" and laughs. Nina's mother is horrified and slaps her across the face. Nina grabs Lily and runs into her room, barricading the door with a wood cleat, yelling at her mother to leave her alone. She turns around and looks at Lily, then walks to her and starts passionately kissing her. They move to the bed where Lily and Nina undress each other to their underwear where Lily then rips Nina's panties off. Lily begins to orally pleasure Nina and she briefly sees Lily morph into herself and then back to Lily, which scares her. Lily doesn't stop and the two continue to have sex, with Lily performing cunnilingus on Nina who eventually climaxes. Lily says, \"Sweet girl\" before morphing back into dark Nina, who raises a pillow to smother her.\n",
      "\n",
      "Nina wakes up the next morning with a hangover-like headache to find Lily gone and realizes she is late for rehearsal. As her mother sits quietly in the living room, Nina yells at her and asks why she didn't wake her up. Erica says this role is destroying her and as Nina rushes out the door, she tells Erica that she is moving out.\n",
      "\n",
      "When Nina arrives at the ballet studio, she finds Lily in her costume, practicing her routine with the rest of the troupe. When Lily walks up to Nina, she says she was only filling in because Thomas had asked her to. Nina then questions Lily about why she left her house the night before, and Lily claims she went home to her place with Tom where they spent the night, and that last time she saw Nina was at the club. When Nina brings up what happened in her bedroom, Lily is flattered that Nina had a lesbian wet dream about her. She playfully asks Nina if she was any good but Nina gets embarrassed and leaves, looking uncomfortable and frustrated, wondering if her lovemaking with Lily had really happened or not.\n",
      "\n",
      "A little later, Nina is being fitted for her Swan costume. When she's done, Lily walks in and says Thomas made Lily Nina's alternate. Enraged and afraid, Nina finds Thomas and begs him not to make Lily her alternate, convinced that Lily is trying to steal the role from her. As Nina begins to cry, Thomas soothes her before telling her she is being paranoid. He tells her that the only person trying to sabotage Nina is \"Nina\".\n",
      "\n",
      "That night, Nina is practising when the piano player suddenly stops playing and gets up to leave, telling Nina he has a life. He tells her not to practice too long and leaves her alone in the studio. As she begins dancing again the lights shut off just as they had when shed been practising with Thomas. She calls out for someone to turn the lights back on, and sees a cloaked figure darting around in the shadows (the Sorcerer from the dream). She hears laughter and follows the noise to find Thomas having sex with Lily (which morphs into Nina) on a work table behind a curtain. Lily smiles at Thomas and laughs. This brings tears to Nina's eyes and she runs back to her dressing room where she grabs the items she took from Beth when the room was still hers.\n",
      "\n",
      "In a fit of hysteria, Nina goes to the hospital to find Beth sitting motionless in a wheelchair, now a mere shadow of the woman she used to be. Nina quietly places a note and the items she stole on the table next to Beth, when Beth suddenly stirs and grabs Nina's arm. Beth is angry and asks what Nina is doing, then she looks down and sees the items on the table. She asks Nina in an amused but irritated voice why she stole from her. Nina says she just wanted to be perfect like Beth. As Beth looks at the items, she says she's nothing and then notices the nail file. She continues to say she's nothing as she suddenly stabs herself in the face with the file repeatedly. Nina finally grabs the nail file from Beth's hand and runs fearfully from the room to the elevator. As she gets in the elevator, she drops the bloody nail file.\n",
      "\n",
      "Nina returns home, dashing hysterically into the kitchen to wash her hands which are covered in Beth's blood. When she turns the kitchen light off, she hears someone whisper \"sweet girl\", at which she turns the light back on to see Beth standing there with her face covered in blood. She runs to the bathroom and vomits into the toilet. She then calls down the hall for her mother, walking toward her mother's art studio, hearing voices coming from the studio. As she peers in, she imagines her mother's paintings moving and talking to her. She runs in and starts tearing everything down, and imagines Beth coming towards her with a bloody face, until her mother walks in and, astonished, asks Nina what she's doing. Nina runs past her mother to her bedroom, with Erica close behind. As she tries to reach Nina, Nina slams the door on her hand, breaking it. Nina barricades herself inside with the pipe again. As Nina stands there, her skin begins to shift and take on a bird like texture, her eyes start to turn red, and her knee joints violently invert to the same shape as a bird. The hallucination disorients Nina and she falls and hits her head on a bed post which knocks her out.\n",
      "\n",
      "Nina wakes up the next day as in a normal day, but with socks rubber-banded on her hands and a headache. She looks to her mother, who is sitting next to the bed with a bandage on her hand. Nina asks her mother why her hands are covered and Erica says it is to prevent scratching, that she'd been doing it all night. Nina suddenly realizes it must be late and says she needs to get to the ballet company because its opening day. Her mother says she called and let them know Nina wasn't feeling well and wouldn't be able to perform that night. Nina is furious and gets out of bed. She goes for the door but her mother has locked the door and removed the door knob. Nina turns around and yells at her mother to let her out. Erica tells her she isn't well and the role has taken her over. Nina grabs her mother's broken hand and pulls her out of the chair. As her mother cries and holds her injured hand, Nina takes the door knob out from under the cushion and walks toward the door. Her mother reaches out for her and asks what happened to her sweet girl, and Nina says in a harsh, evil tone, \"she's gone\", and walks out of the room.\n",
      "\n",
      "Nina arrives at the ballet and ignores whispers from the troupe as she passes them (with the camera following her from behind). She finds Lily in costume talking to Thomas in the hall, prepared to take the stage as the lead. Nina confidently tells Thomas that she is ready to perform and goes to sit down in her dressing room, with Lily asking what's going on behind her. Thomas follows her into the room and says that he's already told Lily she'll be performing. Nina says if she doesn't take the stage then the company will be marred with controversy, after Beth's incident. Thomas looks slightly amused and impressed at her audacity and tells her to get ready.\n",
      "\n",
      "Nina goes on and is just as timid and rigid in her performance as she was during rehearsals. While in the wings she sees Lily flirting with one of the male dancers and also becomes distracted by Lily while they're dancing on stage; subsequently, during a lift, she loses concentration which causes the lead male to drop her. She recovers herself but during an interval, Thomas is enraged and asks what the hell that was all about. Nina blames it on her dance partner but Thomas walks away from her. When she enters her dressing room, Lily is sitting at her dressing table putting on make-up. Nina yells at her to get out of her room. Lily taunts Nina, saying perhaps she should dance the Black Swan's dance as Nina is not fit to dance it, and they begin to fight. Lily morphs into Nina off and on as Nina struggles against her. Nina pushes Lily into the same full-length mirror Beth destroyed and it shatters. As the fight escalates further, Nina grabs a piece of the mirror and stabs Lily in the stomach. Unsure of what to do, Nina hides the bleeding body in her bathroom and then puts on the Black Swan's make-up. She takes the stage and begins to dance with passionate abandon. As she dances with everything Thomas has been asking for, she begins to physically transform into a large Black Swan on stage, growing feathers and wings. She dances the part better than ever and the crowd gives her a standing ovation as the piece ends.\n",
      "\n",
      "Nina runs off stage toward Thomas and, in front of everyone, kisses him passionately after finally seducing him with her movements. He smiles and tells her to go back out for a second bow. After leaving the stage again, Nina goes into her dressing room to change for the next act and realizes the blood is starting to pour out from under the bathroom door. Nina places a towel over the growing pool of blood and then hears a knock at the door. When she opens the door... Lily is standing there. She apologizes for how things turned out between them and congratulates Nina on her amazing performance as the Black Swan. Nina is shocked and bewildered as Lily smiles and walks away. Nina turns around and removes the towel to find there is no blood. She turns to look at the broken mirror pieces from the smashed mirror still on the floor then suddenly moves her hand to her abdomen. She's bleeding, and she reaches into the wound and pulls out a broken shard of glass. (In her unhinged and delusional mind, Nina had stabbed herself before the Black Swan dance, imagining it was Lily). Despite her wound, she dresses for her final act as the White Swan. Nina dances the second act beautifully, which entrances the audience so that they don't see the small stain of blood growing in the mid-section of her white costume.\n",
      "\n",
      "In the final scene of the last act, the White Swan goes to the top of a large structure to commit suicide. Nina does this with grace, looks down at the suitors below, and then turns and falls in slow motion onto the mattress below as her mother sits in the audience, smiling and crying. When the curtain falls, Thomas is overjoyed and newly infatuated with Nina. He is smiling in adoration as he kneels to congratulate her, a crowd of ballerinas gathering around the star. Nina doesn't speak, but instead just smiles and listens to the praise. Lily suddenly gasps - the first to notice the immense blood stain forming on Nina's costume. Someone calls for help, and Thomas frantically asks her, \"What did you do?!\" Nina calmly and quietly utters, \"I was perfect\". The crowd continues to roar with applause as the screen slowly fades to white...\n",
      "\n"
     ]
    }
   ],
   "source": [
    "for i in test_movie.get('synopsis'):\n",
    "    print(i)\n",
    "    print()"
   ]
  },
  {
   "cell_type": "code",
   "execution_count": 19,
   "metadata": {},
   "outputs": [
    {
     "name": "stdout",
     "output_type": "stream",
     "text": [
      "Done! 2022-08-01 22:34:05.107618\n"
     ]
    }
   ],
   "source": [
    "#Pull the list of actors, count appearances, and output count and actor id\n",
    "actor_id = []\n",
    "actor_list = []\n",
    "movie_objects = []\n",
    "actor_dict_new = Counter()\n",
    "actors = []\n",
    "\n",
    "for i in data['IMDb ID']:\n",
    "    movie = ia.get_movie(i)\n",
    "    #print(movie) #check problem movies when failing\n",
    "    movie_objects.append(movie)\n",
    "    \n",
    "    for j in movie['cast']:\n",
    "        actor_list.append(j['name'])\n",
    "        actor_id.append([j['name'], str(j.summary)[43:50]])\n",
    "\n",
    "actor_dict_new = Counter(actor_list)\n",
    "\n",
    "actors = pd.DataFrame.from_dict(actor_dict_new, orient='index', columns=['appearances'])\n",
    "\n",
    "print('Done!', datetime.datetime.today())"
   ]
  },
  {
   "cell_type": "code",
   "execution_count": 20,
   "metadata": {
    "scrolled": false
   },
   "outputs": [],
   "source": [
    "#Merge actor ID with the count in one dataframe and subset for repeats\n",
    "actors_merged = actors.merge(pd.DataFrame(actor_id, columns=['Name', 'ID']),\n",
    "                             left_index=True, right_on='Name').set_index('Name')\n",
    "\n",
    "actors_subset = actors_merged[actors_merged['appearances'] > 1]\n",
    "\n",
    "output = actors_subset.sort_values(by='appearances', ascending=False).drop_duplicates()"
   ]
  },
  {
   "cell_type": "code",
   "execution_count": 31,
   "metadata": {},
   "outputs": [],
   "source": [
    "#TO-DO: pull each actor and get a complete list of movies they've appeared in\n",
    "actor_objects = []\n",
    "\n",
    "for i in actors_subset['ID']:\n",
    "    actor = ia.get_person(i)\n",
    "    actor_objects.append(actor)\n",
    "#     print(i)\n",
    "#     filmography = ia.get_person(i)['filmography']\n",
    "#     try:\n",
    "#         for j in filmography[0]['actress']:\n",
    "#             print(j)\n",
    "#             if data['Movie'].str.match(j['title']).sum() > 0:\n",
    "#                 print('Yes!------------------')\n",
    "#             else:\n",
    "#                 print('No!')\n",
    "#     except:\n",
    "#         for j in filmography[0]['actor']:\n",
    "#             print(j)\n",
    "#             if data['Movie'].str.match(j['title']).sum() > 0:\n",
    "#                 print('Yes!------------------')\n",
    "#             else:\n",
    "#                 print('No!')\n",
    "#     print()\n",
    "#     print()"
   ]
  },
  {
   "cell_type": "code",
   "execution_count": null,
   "metadata": {
    "scrolled": true
   },
   "outputs": [],
   "source": [
    "films = ia.get_person(204)['filmography']\n",
    "\n",
    "for i in films[0]['actress']:\n",
    "    print(i)\n",
    "    if data['Movie'].str.contains(i['title']).sum() > 0:\n",
    "        print('Yes!')\n",
    "    else:\n",
    "        print('No!')"
   ]
  }
 ],
 "metadata": {
  "kernelspec": {
   "display_name": "Python 3.9.13 64-bit",
   "language": "python",
   "name": "python3"
  },
  "language_info": {
   "codemirror_mode": {
    "name": "ipython",
    "version": 3
   },
   "file_extension": ".py",
   "mimetype": "text/x-python",
   "name": "python",
   "nbconvert_exporter": "python",
   "pygments_lexer": "ipython3",
   "version": "3.9.13"
  },
  "vscode": {
   "interpreter": {
    "hash": "b0fa6594d8f4cbf19f97940f81e996739fb7646882a419484c72d19e05852a7e"
   }
  }
 },
 "nbformat": 4,
 "nbformat_minor": 2
}
